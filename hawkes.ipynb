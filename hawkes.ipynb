{
  "nbformat": 4,
  "nbformat_minor": 0,
  "metadata": {
    "colab": {
      "name": "hawkes.ipynb",
      "version": "0.3.2",
      "provenance": [],
      "collapsed_sections": []
    },
    "kernelspec": {
      "name": "python3",
      "display_name": "Python 3"
    }
  },
  "cells": [
    {
      "metadata": {
        "id": "mFFwONkpvYjo",
        "colab_type": "code",
        "colab": {}
      },
      "cell_type": "code",
      "source": [
        "import numpy as np\n",
        "import matplotlib.pyplot as plt\n",
        "%matplotlib inline"
      ],
      "execution_count": 0,
      "outputs": []
    },
    {
      "metadata": {
        "id": "KfEo60W4__7N",
        "colab_type": "code",
        "colab": {}
      },
      "cell_type": "code",
      "source": [
        "def david_hawkes(lambda_0, alpha, beta, T, i, t):\n",
        "  k = 0\n",
        "  lambda_star = lambda_0\n",
        "  while k <= i:\n",
        "    lambda_star = lambda_star + alpha*np.exp(-beta*(t - T[k]))\n",
        "    k = k +1\n",
        "  return lambda_star"
      ],
      "execution_count": 0,
      "outputs": []
    },
    {
      "metadata": {
        "id": "F9FtmHNa1W4v",
        "colab_type": "code",
        "colab": {}
      },
      "cell_type": "code",
      "source": [
        "def wes_hawkes(lambda_0, alpha, beta, bigTboi):\n",
        "  if beta<=alpha:\n",
        "    print(\"you messed up bro\")\n",
        "  else:\n",
        "    t = 0\n",
        "    i = 0\n",
        "    k = 0\n",
        "    x = 0\n",
        "    T = [0]\n",
        "    while(t < bigTboi):\n",
        "      if i >= 1: \n",
        "        lambda_star = david_hawkes(lambda_0, alpha, beta, T, i ,t)\n",
        "        u_hat = np.random.sample()\n",
        "        squiggly = -np.log(u_hat)/lambda_star\n",
        "        t = t + squiggly\n",
        "        u = np.random.sample()\n",
        "        if(u <= (david_hawkes(lambda_0, alpha, beta, T, i, t)/lambda_star)):\n",
        "          i = i + 1\n",
        "          T.append(t)\n",
        "      else:\n",
        "        lambda_star = lambda_0\n",
        "        u_hat = np.random.sample()\n",
        "        squiggly = -np.log(u_hat)/lambda_star\n",
        "        t = t + squiggly\n",
        "        i = i + 1\n",
        "        T.append(t)\n",
        "\n",
        "    if T[-1] <= bigTboi:\n",
        "      return T\n",
        "    else:\n",
        "      return T[:-1]"
      ],
      "execution_count": 0,
      "outputs": []
    },
    {
      "metadata": {
        "id": "5lFXsAbr7uBc",
        "colab_type": "code",
        "outputId": "f273cabf-ea7b-4b70-cb12-f976957b4967",
        "colab": {
          "base_uri": "https://localhost:8080/",
          "height": 1326
        }
      },
      "cell_type": "code",
      "source": [
        "y = wes_hawkes(0.2, 0.4, 0.5, 100)\n",
        "y"
      ],
      "execution_count": 4,
      "outputs": [
        {
          "output_type": "execute_result",
          "data": {
            "text/plain": [
              "[0,\n",
              " 10.206006366029092,\n",
              " 21.158831731367165,\n",
              " 23.942416247888833,\n",
              " 23.983874466182904,\n",
              " 27.595582281500977,\n",
              " 28.27653815342351,\n",
              " 30.230681702792587,\n",
              " 30.56427849458426,\n",
              " 31.17603947139415,\n",
              " 32.119184642273794,\n",
              " 32.55775475305633,\n",
              " 33.94996482703733,\n",
              " 34.536598559065794,\n",
              " 36.437874130431325,\n",
              " 36.754478068580724,\n",
              " 37.55308739083644,\n",
              " 37.55716004856788,\n",
              " 40.85889552999014,\n",
              " 42.39153682575819,\n",
              " 43.67698694207376,\n",
              " 43.73258498878989,\n",
              " 46.11414445939263,\n",
              " 46.71124991901446,\n",
              " 47.94087684366867,\n",
              " 48.31432387856617,\n",
              " 48.763438614893865,\n",
              " 49.179814604098645,\n",
              " 50.441266931764495,\n",
              " 50.77805506425834,\n",
              " 53.374648077209685,\n",
              " 54.21390330187733,\n",
              " 55.95691188399618,\n",
              " 56.22635625589259,\n",
              " 56.36947023742534,\n",
              " 57.07014999145737,\n",
              " 57.070440358277544,\n",
              " 58.24694907766914,\n",
              " 58.66328930593004,\n",
              " 59.021914684550296,\n",
              " 59.708867452167205,\n",
              " 60.245672304135255,\n",
              " 61.22077588585936,\n",
              " 62.81045467980583,\n",
              " 64.46437812631083,\n",
              " 64.65736149607466,\n",
              " 65.72470315645248,\n",
              " 66.23849841460873,\n",
              " 67.75412641036813,\n",
              " 72.19811524339596,\n",
              " 74.89875665205174,\n",
              " 77.54197357907198,\n",
              " 80.83995778090704,\n",
              " 84.63066584617128,\n",
              " 87.14789091682044,\n",
              " 87.74431531801014,\n",
              " 87.99480163465981,\n",
              " 88.15729130126745,\n",
              " 88.87280882867009,\n",
              " 88.943657806597,\n",
              " 89.8160107985277,\n",
              " 90.2371369775305,\n",
              " 91.1095321008022,\n",
              " 91.41284562284189,\n",
              " 92.93917705117221,\n",
              " 93.61599124153533,\n",
              " 93.8775776226003,\n",
              " 94.77880528117225,\n",
              " 95.76619225888494,\n",
              " 95.84624338774135,\n",
              " 95.91459807515612,\n",
              " 95.9443790821156,\n",
              " 96.25334881662081,\n",
              " 97.28611566503844,\n",
              " 99.4023476030972,\n",
              " 99.77244887979344,\n",
              " 99.94314382567624]"
            ]
          },
          "metadata": {
            "tags": []
          },
          "execution_count": 4
        }
      ]
    },
    {
      "metadata": {
        "id": "CvIXL-tR1UYj",
        "colab_type": "text"
      },
      "cell_type": "markdown",
      "source": [
        ""
      ]
    },
    {
      "metadata": {
        "id": "3rJGHJQwENJc",
        "colab_type": "code",
        "colab": {
          "base_uri": "https://localhost:8080/",
          "height": 793
        },
        "outputId": "234cf49b-4da0-4405-c327-83afaf4038a8"
      },
      "cell_type": "code",
      "source": [
        "plt.scatter(y)"
      ],
      "execution_count": 10,
      "outputs": [
        {
          "output_type": "error",
          "ename": "ValueError",
          "evalue": "ignored",
          "traceback": [
            "\u001b[0;31m---------------------------------------------------------------------------\u001b[0m",
            "\u001b[0;31mValueError\u001b[0m                                Traceback (most recent call last)",
            "\u001b[0;32m<ipython-input-10-9e5e8bfdc91a>\u001b[0m in \u001b[0;36m<module>\u001b[0;34m()\u001b[0m\n\u001b[0;32m----> 1\u001b[0;31m \u001b[0mplt\u001b[0m\u001b[0;34m.\u001b[0m\u001b[0mscatter\u001b[0m\u001b[0;34m(\u001b[0m\u001b[0my\u001b[0m\u001b[0;34m,\u001b[0m\u001b[0;34m[\u001b[0m\u001b[0;36m0\u001b[0m\u001b[0;34m,\u001b[0m\u001b[0;36m1\u001b[0m\u001b[0;34m]\u001b[0m\u001b[0;34m)\u001b[0m\u001b[0;34m\u001b[0m\u001b[0;34m\u001b[0m\u001b[0m\n\u001b[0m",
            "\u001b[0;32m/usr/local/lib/python3.6/dist-packages/matplotlib/pyplot.py\u001b[0m in \u001b[0;36mscatter\u001b[0;34m(x, y, s, c, marker, cmap, norm, vmin, vmax, alpha, linewidths, verts, edgecolors, data, **kwargs)\u001b[0m\n\u001b[1;32m   2860\u001b[0m         \u001b[0mvmin\u001b[0m\u001b[0;34m=\u001b[0m\u001b[0mvmin\u001b[0m\u001b[0;34m,\u001b[0m \u001b[0mvmax\u001b[0m\u001b[0;34m=\u001b[0m\u001b[0mvmax\u001b[0m\u001b[0;34m,\u001b[0m \u001b[0malpha\u001b[0m\u001b[0;34m=\u001b[0m\u001b[0malpha\u001b[0m\u001b[0;34m,\u001b[0m \u001b[0mlinewidths\u001b[0m\u001b[0;34m=\u001b[0m\u001b[0mlinewidths\u001b[0m\u001b[0;34m,\u001b[0m\u001b[0;34m\u001b[0m\u001b[0;34m\u001b[0m\u001b[0m\n\u001b[1;32m   2861\u001b[0m         verts=verts, edgecolors=edgecolors, **({\"data\": data} if data\n\u001b[0;32m-> 2862\u001b[0;31m         is not None else {}), **kwargs)\n\u001b[0m\u001b[1;32m   2863\u001b[0m     \u001b[0msci\u001b[0m\u001b[0;34m(\u001b[0m\u001b[0m__ret\u001b[0m\u001b[0;34m)\u001b[0m\u001b[0;34m\u001b[0m\u001b[0;34m\u001b[0m\u001b[0m\n\u001b[1;32m   2864\u001b[0m     \u001b[0;32mreturn\u001b[0m \u001b[0m__ret\u001b[0m\u001b[0;34m\u001b[0m\u001b[0;34m\u001b[0m\u001b[0m\n",
            "\u001b[0;32m/usr/local/lib/python3.6/dist-packages/matplotlib/__init__.py\u001b[0m in \u001b[0;36minner\u001b[0;34m(ax, data, *args, **kwargs)\u001b[0m\n\u001b[1;32m   1808\u001b[0m                         \u001b[0;34m\"the Matplotlib list!)\"\u001b[0m \u001b[0;34m%\u001b[0m \u001b[0;34m(\u001b[0m\u001b[0mlabel_namer\u001b[0m\u001b[0;34m,\u001b[0m \u001b[0mfunc\u001b[0m\u001b[0;34m.\u001b[0m\u001b[0m__name__\u001b[0m\u001b[0;34m)\u001b[0m\u001b[0;34m,\u001b[0m\u001b[0;34m\u001b[0m\u001b[0;34m\u001b[0m\u001b[0m\n\u001b[1;32m   1809\u001b[0m                         RuntimeWarning, stacklevel=2)\n\u001b[0;32m-> 1810\u001b[0;31m             \u001b[0;32mreturn\u001b[0m \u001b[0mfunc\u001b[0m\u001b[0;34m(\u001b[0m\u001b[0max\u001b[0m\u001b[0;34m,\u001b[0m \u001b[0;34m*\u001b[0m\u001b[0margs\u001b[0m\u001b[0;34m,\u001b[0m \u001b[0;34m**\u001b[0m\u001b[0mkwargs\u001b[0m\u001b[0;34m)\u001b[0m\u001b[0;34m\u001b[0m\u001b[0;34m\u001b[0m\u001b[0m\n\u001b[0m\u001b[1;32m   1811\u001b[0m \u001b[0;34m\u001b[0m\u001b[0m\n\u001b[1;32m   1812\u001b[0m         inner.__doc__ = _add_data_doc(inner.__doc__,\n",
            "\u001b[0;32m/usr/local/lib/python3.6/dist-packages/matplotlib/axes/_axes.py\u001b[0m in \u001b[0;36mscatter\u001b[0;34m(self, x, y, s, c, marker, cmap, norm, vmin, vmax, alpha, linewidths, verts, edgecolors, **kwargs)\u001b[0m\n\u001b[1;32m   4180\u001b[0m         \u001b[0my\u001b[0m \u001b[0;34m=\u001b[0m \u001b[0mnp\u001b[0m\u001b[0;34m.\u001b[0m\u001b[0mma\u001b[0m\u001b[0;34m.\u001b[0m\u001b[0mravel\u001b[0m\u001b[0;34m(\u001b[0m\u001b[0my\u001b[0m\u001b[0;34m)\u001b[0m\u001b[0;34m\u001b[0m\u001b[0;34m\u001b[0m\u001b[0m\n\u001b[1;32m   4181\u001b[0m         \u001b[0;32mif\u001b[0m \u001b[0mx\u001b[0m\u001b[0;34m.\u001b[0m\u001b[0msize\u001b[0m \u001b[0;34m!=\u001b[0m \u001b[0my\u001b[0m\u001b[0;34m.\u001b[0m\u001b[0msize\u001b[0m\u001b[0;34m:\u001b[0m\u001b[0;34m\u001b[0m\u001b[0;34m\u001b[0m\u001b[0m\n\u001b[0;32m-> 4182\u001b[0;31m             \u001b[0;32mraise\u001b[0m \u001b[0mValueError\u001b[0m\u001b[0;34m(\u001b[0m\u001b[0;34m\"x and y must be the same size\"\u001b[0m\u001b[0;34m)\u001b[0m\u001b[0;34m\u001b[0m\u001b[0;34m\u001b[0m\u001b[0m\n\u001b[0m\u001b[1;32m   4183\u001b[0m \u001b[0;34m\u001b[0m\u001b[0m\n\u001b[1;32m   4184\u001b[0m         \u001b[0;32mif\u001b[0m \u001b[0ms\u001b[0m \u001b[0;32mis\u001b[0m \u001b[0;32mNone\u001b[0m\u001b[0;34m:\u001b[0m\u001b[0;34m\u001b[0m\u001b[0;34m\u001b[0m\u001b[0m\n",
            "\u001b[0;31mValueError\u001b[0m: x and y must be the same size"
          ]
        },
        {
          "output_type": "display_data",
          "data": {
            "image/png": "[encoded data removed]",
            "text/plain": [
              "<Figure size 432x288 with 1 Axes>"
            ]
          },
          "metadata": {
            "tags": []
          }
        }
      ]
    },
    {
      "metadata": {
        "id": "fBgn_HVKEOD2",
        "colab_type": "code",
        "colab": {}
      },
      "cell_type": "code",
      "source": [
        ""
      ],
      "execution_count": 0,
      "outputs": []
    }
  ]
}